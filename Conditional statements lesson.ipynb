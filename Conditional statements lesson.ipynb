{
 "cells": [
  {
   "cell_type": "code",
   "execution_count": 1,
   "metadata": {},
   "outputs": [
    {
     "name": "stdout",
     "output_type": "stream",
     "text": [
      "Please enter a number: 2\n",
      "2 is an Even number\n"
     ]
    }
   ],
   "source": [
    "#1.1 Ask the user to input a number (should be integer). Check if the number is even or odd. Remember that 0 is neither even nor odd.\n",
    "\n",
    "a = int(input(\"Please enter a number: \"))\n",
    "\n",
    "if(a > 0):\n",
    "    if(a % 2 == 0):\n",
    "        print(a,\"is an Even number\")\n",
    "    elif(a != 0):\n",
    "        print(a,'is an Odd number')\n",
    "else:\n",
    "    print('Number entered is 0')"
   ]
  },
  {
   "cell_type": "code",
   "execution_count": 2,
   "metadata": {},
   "outputs": [
    {
     "name": "stdout",
     "output_type": "stream",
     "text": [
      "Please enter a number: 19\n",
      "19 is a positive number\n"
     ]
    }
   ],
   "source": [
    "#1.2 Ask the user to input a number (should be integer). Check whether the number is zero, positive or negative.\n",
    "\n",
    "a = int(input(\"Please enter a number: \"))\n",
    "\n",
    "if(a == 0):\n",
    "    print(a,'is zero')\n",
    "elif(a < 0):\n",
    "    print(a,'is a negative number')\n",
    "else:\n",
    "    print(a,'is a positive number')"
   ]
  },
  {
   "cell_type": "code",
   "execution_count": 5,
   "metadata": {},
   "outputs": [
    {
     "name": "stdout",
     "output_type": "stream",
     "text": [
      "Please enter student mark: 95\n",
      "A\n"
     ]
    }
   ],
   "source": [
    "#1.3 A school has following grading system\n",
    "\n",
    "a = int(input(\"Please enter student mark: \"))\n",
    "\n",
    "if(a < 25):\n",
    "    print('F')\n",
    "elif(25 <= a < 45):\n",
    "    print('E')\n",
    "elif(45 <= a < 60):\n",
    "    print('D')\n",
    "elif(60 <= a < 75):\n",
    "    print('C')\n",
    "elif(75 <= a < 90):\n",
    "    print('B')\n",
    "else:\n",
    "    print('A')\n"
   ]
  },
  {
   "cell_type": "code",
   "execution_count": 6,
   "metadata": {},
   "outputs": [
    {
     "name": "stdout",
     "output_type": "stream",
     "text": [
      "Please enter a number: hello\n",
      "Integers were not entered\n"
     ]
    }
   ],
   "source": [
    "#1.4 In the problem 3.1, we asked you to write a code to enter an integer and then check if that number is even or not. What if the user inputs a letter or some symbol instead? If we don’t handle this properly, code will break. We should prompt the user if the input entered was incorrect.\n",
    "\n",
    "a = input(\"Please enter a number: \")\n",
    "\n",
    "if a.replace('.','',1).isdigit():\n",
    "    a = float(a)\n",
    "    \n",
    "    if(a > 0):\n",
    "        if(a % 2 == 0):\n",
    "            print(a,\"is an Even number\")\n",
    "        elif(a != 0):\n",
    "            print(a,'is an Odd number')\n",
    "    else:\n",
    "        print('Number entered is 0')\n",
    "else:\n",
    "    print('Integers were not entered')"
   ]
  },
  {
   "cell_type": "code",
   "execution_count": null,
   "metadata": {},
   "outputs": [],
   "source": []
  }
 ],
 "metadata": {
  "kernelspec": {
   "display_name": "Python 3",
   "language": "python",
   "name": "python3"
  },
  "language_info": {
   "codemirror_mode": {
    "name": "ipython",
    "version": 3
   },
   "file_extension": ".py",
   "mimetype": "text/x-python",
   "name": "python",
   "nbconvert_exporter": "python",
   "pygments_lexer": "ipython3",
   "version": "3.8.5"
  }
 },
 "nbformat": 4,
 "nbformat_minor": 4
}
